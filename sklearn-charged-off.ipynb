{
    "nbformat_minor": 1, 
    "cells": [
        {
            "execution_count": 1, 
            "cell_type": "code", 
            "metadata": {}, 
            "outputs": [
                {
                    "output_type": "stream", 
                    "name": "stdout", 
                    "text": "Requirement already up-to-date: scikit-learn in /opt/conda/envs/DSX-Python35/lib/python3.5/site-packages\r\nRequirement not upgraded as not directly required: scipy>=0.13.3 in /opt/conda/envs/DSX-Python35/lib/python3.5/site-packages (from scikit-learn)\r\nRequirement not upgraded as not directly required: numpy>=1.8.2 in /opt/conda/envs/DSX-Python35/lib/python3.5/site-packages (from scikit-learn)\r\n"
                }
            ], 
            "source": "!pip install -U scikit-learn"
        }, 
        {
            "execution_count": 2, 
            "cell_type": "code", 
            "metadata": {}, 
            "outputs": [], 
            "source": "import warnings\nwarnings.filterwarnings('ignore')"
        }, 
        {
            "execution_count": 3, 
            "cell_type": "code", 
            "metadata": {}, 
            "outputs": [
                {
                    "execution_count": 3, 
                    "metadata": {}, 
                    "data": {
                        "text/html": "<div>\n<style scoped>\n    .dataframe tbody tr th:only-of-type {\n        vertical-align: middle;\n    }\n\n    .dataframe tbody tr th {\n        vertical-align: top;\n    }\n\n    .dataframe thead th {\n        text-align: right;\n    }\n</style>\n<table border=\"1\" class=\"dataframe\">\n  <thead>\n    <tr style=\"text-align: right;\">\n      <th></th>\n      <th>id</th>\n      <th>loan_amnt</th>\n      <th>funded_amnt</th>\n      <th>funded_amnt_inv</th>\n      <th>term</th>\n      <th>int_rate</th>\n      <th>installment</th>\n      <th>grade</th>\n      <th>sub_grade</th>\n      <th>emp_title</th>\n      <th>...</th>\n      <th>pub_rec_bankruptcies</th>\n      <th>tax_liens</th>\n      <th>debt_settlement_flag</th>\n      <th>debt_settlement_flag_date</th>\n      <th>settlement_status</th>\n      <th>settlement_date</th>\n      <th>settlement_amount</th>\n      <th>settlement_percentage</th>\n      <th>settlement_term</th>\n      <th>CHARGED_OFF</th>\n    </tr>\n  </thead>\n  <tbody>\n    <tr>\n      <th>0</th>\n      <td>1</td>\n      <td>5000.0</td>\n      <td>5000.0</td>\n      <td>4975.0</td>\n      <td>36.0</td>\n      <td>10.65</td>\n      <td>162.87</td>\n      <td>B</td>\n      <td>B2</td>\n      <td>NaN</td>\n      <td>...</td>\n      <td>0.0</td>\n      <td>0.0</td>\n      <td>N</td>\n      <td>NaN</td>\n      <td>NaN</td>\n      <td>NaN</td>\n      <td>NaN</td>\n      <td>NaN</td>\n      <td>NaN</td>\n      <td>0</td>\n    </tr>\n    <tr>\n      <th>1</th>\n      <td>2</td>\n      <td>2500.0</td>\n      <td>2500.0</td>\n      <td>2500.0</td>\n      <td>60.0</td>\n      <td>15.27</td>\n      <td>59.83</td>\n      <td>C</td>\n      <td>C4</td>\n      <td>Ryder</td>\n      <td>...</td>\n      <td>0.0</td>\n      <td>0.0</td>\n      <td>N</td>\n      <td>NaN</td>\n      <td>NaN</td>\n      <td>NaN</td>\n      <td>NaN</td>\n      <td>NaN</td>\n      <td>NaN</td>\n      <td>1</td>\n    </tr>\n  </tbody>\n</table>\n<p>2 rows \u00d7 54 columns</p>\n</div>", 
                        "text/plain": "   id  loan_amnt  funded_amnt  funded_amnt_inv  term  int_rate  installment  \\\n0   1     5000.0       5000.0           4975.0  36.0     10.65       162.87   \n1   2     2500.0       2500.0           2500.0  60.0     15.27        59.83   \n\n  grade sub_grade emp_title     ...     pub_rec_bankruptcies tax_liens  \\\n0     B        B2       NaN     ...                      0.0       0.0   \n1     C        C4     Ryder     ...                      0.0       0.0   \n\n   debt_settlement_flag debt_settlement_flag_date settlement_status  \\\n0                     N                       NaN               NaN   \n1                     N                       NaN               NaN   \n\n  settlement_date settlement_amount settlement_percentage settlement_term  \\\n0             NaN               NaN                   NaN             NaN   \n1             NaN               NaN                   NaN             NaN   \n\n  CHARGED_OFF  \n0           0  \n1           1  \n\n[2 rows x 54 columns]"
                    }, 
                    "output_type": "execute_result"
                }
            ], 
            "source": "# The code was removed by Watson Studio for sharing."
        }, 
        {
            "execution_count": 4, 
            "cell_type": "code", 
            "metadata": {}, 
            "outputs": [], 
            "source": "def missing_values_table(df):\n        mis_val = df.isnull().sum()\n        mis_val_percent = 100 * df.isnull().sum() / len(df)\n        mis_val_table = pd.concat([mis_val, mis_val_percent], axis=1)\n        mis_val_table_ren_columns = mis_val_table.rename(\n        columns = {0 : 'Missing Values', 1 : '% of Total Values'})\n        mis_val_table_ren_columns = mis_val_table_ren_columns[\n            mis_val_table_ren_columns.iloc[:,1] != 0].sort_values(\n        '% of Total Values', ascending=False).round(1)\n        print (\"Your selected dataframe has \" + str(df.shape[1]) + \" columns.\\n\"      \n            \"There are \" + str(mis_val_table_ren_columns.shape[0]) +\n              \" columns that have missing values.\")\n        return mis_val_table_ren_columns"
        }, 
        {
            "source": "### No point of evaluating loans with loan_amnt or total_acc to null.\n### Also emp_title and title create too many dummy categories", 
            "cell_type": "markdown", 
            "metadata": {}
        }, 
        {
            "execution_count": 5, 
            "cell_type": "code", 
            "metadata": {}, 
            "outputs": [], 
            "source": "loans_raw.dropna(subset=['loan_amnt', 'total_acc'], inplace=True)\nloans_raw.drop(columns=['emp_title', 'title'], axis='1', inplace=True)"
        }, 
        {
            "source": "### List missing values aggregation", 
            "cell_type": "markdown", 
            "metadata": {}
        }, 
        {
            "execution_count": 6, 
            "cell_type": "code", 
            "metadata": {}, 
            "outputs": [
                {
                    "output_type": "stream", 
                    "name": "stdout", 
                    "text": "Your selected dataframe has 52 columns.\nThere are 16 columns that have missing values.\n"
                }, 
                {
                    "execution_count": 6, 
                    "metadata": {}, 
                    "data": {
                        "text/html": "<div>\n<style scoped>\n    .dataframe tbody tr th:only-of-type {\n        vertical-align: middle;\n    }\n\n    .dataframe tbody tr th {\n        vertical-align: top;\n    }\n\n    .dataframe thead th {\n        text-align: right;\n    }\n</style>\n<table border=\"1\" class=\"dataframe\">\n  <thead>\n    <tr style=\"text-align: right;\">\n      <th></th>\n      <th>Missing Values</th>\n      <th>% of Total Values</th>\n    </tr>\n  </thead>\n  <tbody>\n    <tr>\n      <th>debt_settlement_flag_date</th>\n      <td>42346</td>\n      <td>99.6</td>\n    </tr>\n    <tr>\n      <th>settlement_status</th>\n      <td>42346</td>\n      <td>99.6</td>\n    </tr>\n    <tr>\n      <th>settlement_date</th>\n      <td>42346</td>\n      <td>99.6</td>\n    </tr>\n    <tr>\n      <th>settlement_amount</th>\n      <td>42346</td>\n      <td>99.6</td>\n    </tr>\n    <tr>\n      <th>settlement_percentage</th>\n      <td>42346</td>\n      <td>99.6</td>\n    </tr>\n    <tr>\n      <th>settlement_term</th>\n      <td>42346</td>\n      <td>99.6</td>\n    </tr>\n    <tr>\n      <th>next_pymnt_d</th>\n      <td>39786</td>\n      <td>93.6</td>\n    </tr>\n    <tr>\n      <th>mths_since_last_record</th>\n      <td>38855</td>\n      <td>91.4</td>\n    </tr>\n    <tr>\n      <th>mths_since_last_delinq</th>\n      <td>26897</td>\n      <td>63.3</td>\n    </tr>\n    <tr>\n      <th>desc</th>\n      <td>13292</td>\n      <td>31.3</td>\n    </tr>\n    <tr>\n      <th>pub_rec_bankruptcies</th>\n      <td>1336</td>\n      <td>3.1</td>\n    </tr>\n    <tr>\n      <th>emp_length</th>\n      <td>1112</td>\n      <td>2.6</td>\n    </tr>\n    <tr>\n      <th>last_pymnt_d</th>\n      <td>83</td>\n      <td>0.2</td>\n    </tr>\n    <tr>\n      <th>tax_liens</th>\n      <td>76</td>\n      <td>0.2</td>\n    </tr>\n    <tr>\n      <th>revol_util</th>\n      <td>61</td>\n      <td>0.1</td>\n    </tr>\n    <tr>\n      <th>last_credit_pull_d</th>\n      <td>3</td>\n      <td>0.0</td>\n    </tr>\n  </tbody>\n</table>\n</div>", 
                        "text/plain": "                           Missing Values  % of Total Values\ndebt_settlement_flag_date           42346               99.6\nsettlement_status                   42346               99.6\nsettlement_date                     42346               99.6\nsettlement_amount                   42346               99.6\nsettlement_percentage               42346               99.6\nsettlement_term                     42346               99.6\nnext_pymnt_d                        39786               93.6\nmths_since_last_record              38855               91.4\nmths_since_last_delinq              26897               63.3\ndesc                                13292               31.3\npub_rec_bankruptcies                 1336                3.1\nemp_length                           1112                2.6\nlast_pymnt_d                           83                0.2\ntax_liens                              76                0.2\nrevol_util                             61                0.1\nlast_credit_pull_d                      3                0.0"
                    }, 
                    "output_type": "execute_result"
                }
            ], 
            "source": "missing_values_table(loans_raw)"
        }, 
        {
            "source": "### Drop variables with too many nulls", 
            "cell_type": "markdown", 
            "metadata": {}
        }, 
        {
            "execution_count": 7, 
            "cell_type": "code", 
            "metadata": {}, 
            "outputs": [], 
            "source": "too_many_na = [\"settlement_term\", \"settlement_percentage\", \"settlement_amount\", \"settlement_date\",  \"settlement_status\", \"debt_settlement_flag_date\", \"next_pymnt_d\", \"desc\", \"mths_since_last_record\", \"mths_since_last_delinq\"]\nloans_raw.drop(columns=too_many_na, inplace=True)\n"
        }, 
        {
            "execution_count": 8, 
            "cell_type": "code", 
            "metadata": {}, 
            "outputs": [
                {
                    "output_type": "stream", 
                    "name": "stdout", 
                    "text": "Your selected dataframe has 42 columns.\nThere are 6 columns that have missing values.\n"
                }, 
                {
                    "execution_count": 8, 
                    "metadata": {}, 
                    "data": {
                        "text/html": "<div>\n<style scoped>\n    .dataframe tbody tr th:only-of-type {\n        vertical-align: middle;\n    }\n\n    .dataframe tbody tr th {\n        vertical-align: top;\n    }\n\n    .dataframe thead th {\n        text-align: right;\n    }\n</style>\n<table border=\"1\" class=\"dataframe\">\n  <thead>\n    <tr style=\"text-align: right;\">\n      <th></th>\n      <th>Missing Values</th>\n      <th>% of Total Values</th>\n    </tr>\n  </thead>\n  <tbody>\n    <tr>\n      <th>pub_rec_bankruptcies</th>\n      <td>1336</td>\n      <td>3.1</td>\n    </tr>\n    <tr>\n      <th>emp_length</th>\n      <td>1112</td>\n      <td>2.6</td>\n    </tr>\n    <tr>\n      <th>last_pymnt_d</th>\n      <td>83</td>\n      <td>0.2</td>\n    </tr>\n    <tr>\n      <th>tax_liens</th>\n      <td>76</td>\n      <td>0.2</td>\n    </tr>\n    <tr>\n      <th>revol_util</th>\n      <td>61</td>\n      <td>0.1</td>\n    </tr>\n    <tr>\n      <th>last_credit_pull_d</th>\n      <td>3</td>\n      <td>0.0</td>\n    </tr>\n  </tbody>\n</table>\n</div>", 
                        "text/plain": "                      Missing Values  % of Total Values\npub_rec_bankruptcies            1336                3.1\nemp_length                      1112                2.6\nlast_pymnt_d                      83                0.2\ntax_liens                         76                0.2\nrevol_util                        61                0.1\nlast_credit_pull_d                 3                0.0"
                    }, 
                    "output_type": "execute_result"
                }
            ], 
            "source": "missing_values_table(loans_raw)"
        }, 
        {
            "execution_count": 9, 
            "cell_type": "code", 
            "metadata": {}, 
            "outputs": [], 
            "source": "from sklearn.model_selection import train_test_split\ncredits_train, credits_test = train_test_split(loans_raw, test_size=0.2, random_state=42)"
        }, 
        {
            "execution_count": 10, 
            "cell_type": "code", 
            "metadata": {}, 
            "outputs": [], 
            "source": "credits_target = credits_train[\"CHARGED_OFF\"].copy()\ncredits_train = credits_train.drop(\"CHARGED_OFF\", axis=1)"
        }, 
        {
            "execution_count": 11, 
            "cell_type": "code", 
            "metadata": {}, 
            "outputs": [], 
            "source": "credits_num = credits_train.select_dtypes(exclude=['object'])\ncredits_cat = credits_train.select_dtypes(include=['object'])\nnum_attribs = credits_num.columns\ncat_attribs = credits_cat.columns"
        }, 
        {
            "execution_count": 12, 
            "cell_type": "code", 
            "metadata": {}, 
            "outputs": [], 
            "source": "from sklearn.pipeline import Pipeline\nfrom sklearn.impute import SimpleImputer\n\nfrom sklearn.preprocessing import StandardScaler\nfrom sklearn.preprocessing import OneHotEncoder\n\nnum_pipeline = Pipeline([\n        ('imputer', SimpleImputer(strategy=\"median\")),\n        ('std_scaler', StandardScaler()),\n    ])\n\ncat_pipeline = Pipeline([\n        ('imputer', SimpleImputer(strategy=\"most_frequent\")),\n        ('oh_encoder', OneHotEncoder()),\n    ])"
        }, 
        {
            "execution_count": 13, 
            "cell_type": "code", 
            "metadata": {}, 
            "outputs": [], 
            "source": "from sklearn.compose import ColumnTransformer\n\nfull_pipeline = ColumnTransformer([\n        (\"num\", num_pipeline, num_attribs),\n        (\"cat\", cat_pipeline, cat_attribs),\n    ])\n\ncredits_prepared = full_pipeline.fit_transform(credits_train)\n"
        }, 
        {
            "execution_count": 14, 
            "cell_type": "code", 
            "metadata": {}, 
            "outputs": [
                {
                    "execution_count": 14, 
                    "metadata": {}, 
                    "data": {
                        "text/plain": "RandomForestClassifier(bootstrap=True, class_weight=None, criterion='gini',\n            max_depth=None, max_features='auto', max_leaf_nodes=None,\n            min_impurity_decrease=0.0, min_impurity_split=None,\n            min_samples_leaf=1, min_samples_split=2,\n            min_weight_fraction_leaf=0.0, n_estimators=10, n_jobs=None,\n            oob_score=False, random_state=None, verbose=0,\n            warm_start=False)"
                    }, 
                    "output_type": "execute_result"
                }
            ], 
            "source": "from sklearn.ensemble import RandomForestClassifier\n\nrf_classifier = RandomForestClassifier()\nrf_classifier.fit(credits_prepared, credits_target)"
        }, 
        {
            "execution_count": 15, 
            "cell_type": "code", 
            "metadata": {}, 
            "outputs": [
                {
                    "execution_count": 15, 
                    "metadata": {}, 
                    "data": {
                        "text/plain": "0.95729671449798082"
                    }, 
                    "output_type": "execute_result"
                }
            ], 
            "source": "from sklearn.model_selection import cross_val_score\nimport numpy as np\n\nnp.mean(cross_val_score(rf_classifier, credits_prepared, credits_target, cv=10, scoring=\"f1\"))"
        }, 
        {
            "execution_count": 16, 
            "cell_type": "code", 
            "metadata": {}, 
            "outputs": [], 
            "source": "from sklearn.model_selection import cross_val_predict\ncredits_predicted = cross_val_predict(rf_classifier, credits_prepared, credits_target, cv=10)"
        }, 
        {
            "execution_count": 17, 
            "cell_type": "code", 
            "metadata": {}, 
            "outputs": [
                {
                    "execution_count": 17, 
                    "metadata": {}, 
                    "data": {
                        "text/plain": "array([[29357,    57],\n       [  288,  4302]])"
                    }, 
                    "output_type": "execute_result"
                }
            ], 
            "source": "from sklearn.metrics import confusion_matrix, precision_score, recall_score\nconfusion_matrix(credits_target, credits_predicted)"
        }, 
        {
            "execution_count": 18, 
            "cell_type": "code", 
            "metadata": {}, 
            "outputs": [
                {
                    "execution_count": 18, 
                    "metadata": {}, 
                    "data": {
                        "text/plain": "0.98692360633172749"
                    }, 
                    "output_type": "execute_result"
                }
            ], 
            "source": "precision_score(credits_target, credits_predicted)"
        }, 
        {
            "execution_count": 19, 
            "cell_type": "code", 
            "metadata": {}, 
            "outputs": [
                {
                    "execution_count": 19, 
                    "metadata": {}, 
                    "data": {
                        "text/plain": "0.93725490196078431"
                    }, 
                    "output_type": "execute_result"
                }
            ], 
            "source": "recall_score(credits_target, credits_predicted)"
        }, 
        {
            "execution_count": 20, 
            "cell_type": "code", 
            "metadata": {}, 
            "outputs": [], 
            "source": "dummies = pd.get_dummies(credits_train[cat_attribs])"
        }, 
        {
            "execution_count": 21, 
            "cell_type": "code", 
            "metadata": {}, 
            "outputs": [
                {
                    "execution_count": 21, 
                    "metadata": {}, 
                    "data": {
                        "text/plain": "2868"
                    }, 
                    "output_type": "execute_result"
                }
            ], 
            "source": "dummies.columns.size"
        }, 
        {
            "execution_count": 22, 
            "cell_type": "code", 
            "metadata": {}, 
            "outputs": [], 
            "source": "importances = rf_classifier.feature_importances_\nstd = np.std([tree.feature_importances_ for tree in rf_classifier.estimators_], axis=0)\nindices = np.argsort(importances)[::-1]"
        }, 
        {
            "execution_count": 23, 
            "cell_type": "code", 
            "metadata": {}, 
            "outputs": [
                {
                    "execution_count": 23, 
                    "metadata": {}, 
                    "data": {
                        "text/plain": "(2895,)"
                    }, 
                    "output_type": "execute_result"
                }
            ], 
            "source": "importances.shape"
        }, 
        {
            "execution_count": 24, 
            "cell_type": "code", 
            "metadata": {}, 
            "outputs": [
                {
                    "execution_count": 24, 
                    "metadata": {}, 
                    "data": {
                        "text/plain": "0.052487241253104222"
                    }, 
                    "output_type": "execute_result"
                }
            ], 
            "source": "importances[indices[2]]"
        }, 
        {
            "execution_count": 25, 
            "cell_type": "code", 
            "metadata": {}, 
            "outputs": [
                {
                    "output_type": "stream", 
                    "name": "stdout", 
                    "text": "Feature ranking:\n1. feature grade_A (2.6045e-01)\n2. feature grade_B (2.0050e-01)\n3. feature grade_C (5.2487e-02)\n4. feature grade_D (5.1972e-02)\n5. feature grade_E (4.2971e-02)\n6. feature grade_F (3.1025e-02)\n7. feature grade_G (3.0578e-02)\n8. feature sub_grade_A1 (2.5425e-02)\n9. feature sub_grade_A2 (1.4478e-02)\n10. feature sub_grade_A3 (1.2372e-02)\n11. feature sub_grade_A4 (1.2002e-02)\n12. feature sub_grade_A5 (1.1286e-02)\n13. feature sub_grade_B1 (1.0653e-02)\n14. feature sub_grade_B2 (1.0631e-02)\n15. feature sub_grade_B3 (9.4098e-03)\n16. feature sub_grade_B4 (7.1932e-03)\n17. feature sub_grade_B5 (6.1861e-03)\n18. feature sub_grade_C1 (5.4100e-03)\n19. feature sub_grade_C2 (5.3506e-03)\n20. feature sub_grade_C3 (5.1767e-03)\n21. feature sub_grade_C4 (4.7010e-03)\n22. feature sub_grade_C5 (4.6402e-03)\n23. feature sub_grade_D1 (3.8221e-03)\n24. feature sub_grade_D2 (3.2554e-03)\n25. feature sub_grade_D3 (3.1825e-03)\n26. feature sub_grade_D4 (2.7128e-03)\n27. feature sub_grade_D5 (2.4475e-03)\n28. feature sub_grade_E1 (1.8573e-03)\n29. feature sub_grade_E2 (1.3369e-03)\n30. feature sub_grade_E3 (1.2514e-03)\n31. feature sub_grade_E4 (1.1560e-03)\n32. feature sub_grade_E5 (1.1052e-03)\n33. feature sub_grade_F1 (1.0683e-03)\n34. feature sub_grade_F2 (1.0407e-03)\n35. feature sub_grade_F3 (9.8240e-04)\n36. feature sub_grade_F4 (9.7303e-04)\n37. feature sub_grade_F5 (9.3578e-04)\n38. feature sub_grade_G1 (9.0192e-04)\n39. feature sub_grade_G2 (8.6187e-04)\n40. feature sub_grade_G3 (8.5803e-04)\n41. feature sub_grade_G4 (8.2244e-04)\n42. feature sub_grade_G5 (8.1731e-04)\n43. feature emp_length_1 year (7.7866e-04)\n44. feature emp_length_10+ years (7.6900e-04)\n45. feature emp_length_2 years (7.6358e-04)\n46. feature emp_length_3 years (7.6151e-04)\n47. feature emp_length_4 years (7.6143e-04)\n48. feature emp_length_5 years (7.3068e-04)\n49. feature emp_length_6 years (7.1147e-04)\n50. feature emp_length_7 years (7.0286e-04)\n51. feature emp_length_8 years (6.7658e-04)\n52. feature emp_length_9 years (6.6408e-04)\n53. feature emp_length_< 1 year (6.6396e-04)\n54. feature home_ownership_MORTGAGE (6.5304e-04)\n55. feature home_ownership_NONE (6.4398e-04)\n56. feature home_ownership_OTHER (6.3429e-04)\n57. feature home_ownership_OWN (6.3097e-04)\n58. feature home_ownership_RENT (6.2511e-04)\n59. feature verification_status_Not Verified (6.1409e-04)\n60. feature verification_status_Source Verified (6.1132e-04)\n61. feature verification_status_Verified (5.9883e-04)\n62. feature issue_d_Apr-2008 (5.5727e-04)\n63. feature issue_d_Apr-2009 (5.5186e-04)\n64. feature issue_d_Apr-2010 (5.5063e-04)\n65. feature issue_d_Apr-2011 (5.4094e-04)\n66. feature issue_d_Aug-2007 (5.3444e-04)\n"
                }
            ], 
            "source": "# Print the feature ranking\nprint(\"Feature ranking:\")\n\ndelete_importance=[]\n\nfor f in range(credits_prepared.shape[1]):\n    if (importances[indices[f]]) > 5e-4:\n        print(\"%d. feature %s (%.4e)\" % (f + 1, dummies.columns[f], importances[indices[f]]))\n    else:\n        delete_importance.append(f)\n\nimportance_mini = np.delete(importances, delete_importance)"
        }, 
        {
            "execution_count": 26, 
            "cell_type": "code", 
            "metadata": {}, 
            "outputs": [], 
            "source": "importance_mini.shape\nindices_mini = np.argsort(importance_mini)[::-1]"
        }, 
        {
            "execution_count": 28, 
            "cell_type": "code", 
            "metadata": {}, 
            "outputs": [
                {
                    "output_type": "display_data", 
                    "data": {
                        "image/png": "[encoded data removed]", 
                        "text/plain": "<matplotlib.figure.Figure at 0x7fed0b9a34a8>"
                    }, 
                    "metadata": {}
                }
            ], 
            "source": "import matplotlib.pyplot as plt\n%matplotlib inline\n# Plot the feature importances of the forest\nplt.figure(figsize=(15,10))\nplt.title(\"Feature importances\")\nplt.bar(range(importance_mini.size), importance_mini[indices_mini], color=\"b\", align=\"center\")\nplt.xticks(range(importance_mini.size), indices_mini)\nplt.show()"
        }, 
        {
            "execution_count": null, 
            "cell_type": "code", 
            "metadata": {}, 
            "outputs": [], 
            "source": ""
        }
    ], 
    "metadata": {
        "kernelspec": {
            "display_name": "Python 3.5", 
            "name": "python3", 
            "language": "python"
        }, 
        "language_info": {
            "mimetype": "text/x-python", 
            "nbconvert_exporter": "python", 
            "version": "3.5.5", 
            "name": "python", 
            "file_extension": ".py", 
            "pygments_lexer": "ipython3", 
            "codemirror_mode": {
                "version": 3, 
                "name": "ipython"
            }
        }
    }, 
    "nbformat": 4
}