{
    "nbformat_minor": 1, 
    "cells": [
        {
            "source": "!pip install -U scikit-learn", 
            "cell_type": "markdown", 
            "metadata": {}
        }, 
        {
            "execution_count": 1, 
            "cell_type": "code", 
            "metadata": {}, 
            "outputs": [], 
            "source": "import warnings\nwarnings.filterwarnings('ignore')"
        }, 
        {
            "execution_count": 2, 
            "cell_type": "code", 
            "metadata": {}, 
            "outputs": [
                {
                    "execution_count": 2, 
                    "metadata": {}, 
                    "data": {
                        "text/html": "<div>\n<style scoped>\n    .dataframe tbody tr th:only-of-type {\n        vertical-align: middle;\n    }\n\n    .dataframe tbody tr th {\n        vertical-align: top;\n    }\n\n    .dataframe thead th {\n        text-align: right;\n    }\n</style>\n<table border=\"1\" class=\"dataframe\">\n  <thead>\n    <tr style=\"text-align: right;\">\n      <th></th>\n      <th>id</th>\n      <th>loan_amnt</th>\n      <th>funded_amnt</th>\n      <th>funded_amnt_inv</th>\n      <th>term</th>\n      <th>int_rate</th>\n      <th>installment</th>\n      <th>grade</th>\n      <th>sub_grade</th>\n      <th>emp_title</th>\n      <th>...</th>\n      <th>pub_rec_bankruptcies</th>\n      <th>tax_liens</th>\n      <th>debt_settlement_flag</th>\n      <th>debt_settlement_flag_date</th>\n      <th>settlement_status</th>\n      <th>settlement_date</th>\n      <th>settlement_amount</th>\n      <th>settlement_percentage</th>\n      <th>settlement_term</th>\n      <th>CHARGED_OFF</th>\n    </tr>\n  </thead>\n  <tbody>\n    <tr>\n      <th>0</th>\n      <td>1</td>\n      <td>5000.0</td>\n      <td>5000.0</td>\n      <td>4975.0</td>\n      <td>36.0</td>\n      <td>10.65</td>\n      <td>162.87</td>\n      <td>B</td>\n      <td>B2</td>\n      <td>NaN</td>\n      <td>...</td>\n      <td>0.0</td>\n      <td>0.0</td>\n      <td>N</td>\n      <td>NaN</td>\n      <td>NaN</td>\n      <td>NaN</td>\n      <td>NaN</td>\n      <td>NaN</td>\n      <td>NaN</td>\n      <td>0</td>\n    </tr>\n    <tr>\n      <th>1</th>\n      <td>2</td>\n      <td>2500.0</td>\n      <td>2500.0</td>\n      <td>2500.0</td>\n      <td>60.0</td>\n      <td>15.27</td>\n      <td>59.83</td>\n      <td>C</td>\n      <td>C4</td>\n      <td>Ryder</td>\n      <td>...</td>\n      <td>0.0</td>\n      <td>0.0</td>\n      <td>N</td>\n      <td>NaN</td>\n      <td>NaN</td>\n      <td>NaN</td>\n      <td>NaN</td>\n      <td>NaN</td>\n      <td>NaN</td>\n      <td>1</td>\n    </tr>\n  </tbody>\n</table>\n<p>2 rows \u00d7 54 columns</p>\n</div>", 
                        "text/plain": "   id  loan_amnt  funded_amnt  funded_amnt_inv  term  int_rate  installment  \\\n0   1     5000.0       5000.0           4975.0  36.0     10.65       162.87   \n1   2     2500.0       2500.0           2500.0  60.0     15.27        59.83   \n\n  grade sub_grade emp_title     ...     pub_rec_bankruptcies tax_liens  \\\n0     B        B2       NaN     ...                      0.0       0.0   \n1     C        C4     Ryder     ...                      0.0       0.0   \n\n   debt_settlement_flag debt_settlement_flag_date settlement_status  \\\n0                     N                       NaN               NaN   \n1                     N                       NaN               NaN   \n\n  settlement_date settlement_amount settlement_percentage settlement_term  \\\n0             NaN               NaN                   NaN             NaN   \n1             NaN               NaN                   NaN             NaN   \n\n  CHARGED_OFF  \n0           0  \n1           1  \n\n[2 rows x 54 columns]"
                    }, 
                    "output_type": "execute_result"
                }
            ], 
            "source": "# The code was removed by Watson Studio for sharing."
        }, 
        {
            "execution_count": 3, 
            "cell_type": "code", 
            "metadata": {}, 
            "outputs": [], 
            "source": "def missing_values_table(df):\n        mis_val = df.isnull().sum()\n        mis_val_percent = 100 * df.isnull().sum() / len(df)\n        mis_val_table = pd.concat([mis_val, mis_val_percent], axis=1)\n        mis_val_table_ren_columns = mis_val_table.rename(\n        columns = {0 : 'Missing Values', 1 : '% of Total Values'})\n        mis_val_table_ren_columns = mis_val_table_ren_columns[\n            mis_val_table_ren_columns.iloc[:,1] != 0].sort_values(\n        '% of Total Values', ascending=False).round(1)\n        print (\"Your selected dataframe has \" + str(df.shape[1]) + \" columns.\\n\"      \n            \"There are \" + str(mis_val_table_ren_columns.shape[0]) +\n              \" columns that have missing values.\")\n        return mis_val_table_ren_columns"
        }, 
        {
            "source": "### No point of evaluating loans with loan_amnt or  null", 
            "cell_type": "markdown", 
            "metadata": {}
        }, 
        {
            "execution_count": 4, 
            "cell_type": "code", 
            "metadata": {}, 
            "outputs": [], 
            "source": "loans_raw.dropna(subset=['loan_amnt', 'total_acc'], inplace=True)"
        }, 
        {
            "source": "### List missing values aggregation", 
            "cell_type": "markdown", 
            "metadata": {}
        }, 
        {
            "execution_count": 5, 
            "cell_type": "code", 
            "metadata": {}, 
            "outputs": [
                {
                    "output_type": "stream", 
                    "name": "stdout", 
                    "text": "Your selected dataframe has 54 columns.\nThere are 18 columns that have missing values.\n"
                }, 
                {
                    "execution_count": 5, 
                    "metadata": {}, 
                    "data": {
                        "text/html": "<div>\n<style scoped>\n    .dataframe tbody tr th:only-of-type {\n        vertical-align: middle;\n    }\n\n    .dataframe tbody tr th {\n        vertical-align: top;\n    }\n\n    .dataframe thead th {\n        text-align: right;\n    }\n</style>\n<table border=\"1\" class=\"dataframe\">\n  <thead>\n    <tr style=\"text-align: right;\">\n      <th></th>\n      <th>Missing Values</th>\n      <th>% of Total Values</th>\n    </tr>\n  </thead>\n  <tbody>\n    <tr>\n      <th>settlement_term</th>\n      <td>42346</td>\n      <td>99.6</td>\n    </tr>\n    <tr>\n      <th>debt_settlement_flag_date</th>\n      <td>42346</td>\n      <td>99.6</td>\n    </tr>\n    <tr>\n      <th>settlement_percentage</th>\n      <td>42346</td>\n      <td>99.6</td>\n    </tr>\n    <tr>\n      <th>settlement_amount</th>\n      <td>42346</td>\n      <td>99.6</td>\n    </tr>\n    <tr>\n      <th>settlement_date</th>\n      <td>42346</td>\n      <td>99.6</td>\n    </tr>\n    <tr>\n      <th>settlement_status</th>\n      <td>42346</td>\n      <td>99.6</td>\n    </tr>\n    <tr>\n      <th>next_pymnt_d</th>\n      <td>39786</td>\n      <td>93.6</td>\n    </tr>\n    <tr>\n      <th>mths_since_last_record</th>\n      <td>38855</td>\n      <td>91.4</td>\n    </tr>\n    <tr>\n      <th>mths_since_last_delinq</th>\n      <td>26897</td>\n      <td>63.3</td>\n    </tr>\n    <tr>\n      <th>desc</th>\n      <td>13292</td>\n      <td>31.3</td>\n    </tr>\n    <tr>\n      <th>emp_title</th>\n      <td>2614</td>\n      <td>6.1</td>\n    </tr>\n    <tr>\n      <th>pub_rec_bankruptcies</th>\n      <td>1336</td>\n      <td>3.1</td>\n    </tr>\n    <tr>\n      <th>emp_length</th>\n      <td>1112</td>\n      <td>2.6</td>\n    </tr>\n    <tr>\n      <th>last_pymnt_d</th>\n      <td>83</td>\n      <td>0.2</td>\n    </tr>\n    <tr>\n      <th>tax_liens</th>\n      <td>76</td>\n      <td>0.2</td>\n    </tr>\n    <tr>\n      <th>revol_util</th>\n      <td>61</td>\n      <td>0.1</td>\n    </tr>\n    <tr>\n      <th>title</th>\n      <td>13</td>\n      <td>0.0</td>\n    </tr>\n    <tr>\n      <th>last_credit_pull_d</th>\n      <td>3</td>\n      <td>0.0</td>\n    </tr>\n  </tbody>\n</table>\n</div>", 
                        "text/plain": "                           Missing Values  % of Total Values\nsettlement_term                     42346               99.6\ndebt_settlement_flag_date           42346               99.6\nsettlement_percentage               42346               99.6\nsettlement_amount                   42346               99.6\nsettlement_date                     42346               99.6\nsettlement_status                   42346               99.6\nnext_pymnt_d                        39786               93.6\nmths_since_last_record              38855               91.4\nmths_since_last_delinq              26897               63.3\ndesc                                13292               31.3\nemp_title                            2614                6.1\npub_rec_bankruptcies                 1336                3.1\nemp_length                           1112                2.6\nlast_pymnt_d                           83                0.2\ntax_liens                              76                0.2\nrevol_util                             61                0.1\ntitle                                  13                0.0\nlast_credit_pull_d                      3                0.0"
                    }, 
                    "output_type": "execute_result"
                }
            ], 
            "source": "missing_values_table(loans_raw)"
        }, 
        {
            "source": "### Drop variables with too many nulls", 
            "cell_type": "markdown", 
            "metadata": {}
        }, 
        {
            "execution_count": 6, 
            "cell_type": "code", 
            "metadata": {}, 
            "outputs": [], 
            "source": "too_many_na = [\"settlement_term\", \"settlement_percentage\", \"settlement_amount\", \"settlement_date\",  \"settlement_status\", \"debt_settlement_flag_date\", \"next_pymnt_d\", \"desc\", \"mths_since_last_record\", \"mths_since_last_delinq\"]\nloans_raw.drop(columns=too_many_na, inplace=True)\n"
        }, 
        {
            "execution_count": 7, 
            "cell_type": "code", 
            "metadata": {}, 
            "outputs": [
                {
                    "output_type": "stream", 
                    "name": "stdout", 
                    "text": "Your selected dataframe has 44 columns.\nThere are 8 columns that have missing values.\n"
                }, 
                {
                    "execution_count": 7, 
                    "metadata": {}, 
                    "data": {
                        "text/html": "<div>\n<style scoped>\n    .dataframe tbody tr th:only-of-type {\n        vertical-align: middle;\n    }\n\n    .dataframe tbody tr th {\n        vertical-align: top;\n    }\n\n    .dataframe thead th {\n        text-align: right;\n    }\n</style>\n<table border=\"1\" class=\"dataframe\">\n  <thead>\n    <tr style=\"text-align: right;\">\n      <th></th>\n      <th>Missing Values</th>\n      <th>% of Total Values</th>\n    </tr>\n  </thead>\n  <tbody>\n    <tr>\n      <th>emp_title</th>\n      <td>2614</td>\n      <td>6.1</td>\n    </tr>\n    <tr>\n      <th>pub_rec_bankruptcies</th>\n      <td>1336</td>\n      <td>3.1</td>\n    </tr>\n    <tr>\n      <th>emp_length</th>\n      <td>1112</td>\n      <td>2.6</td>\n    </tr>\n    <tr>\n      <th>last_pymnt_d</th>\n      <td>83</td>\n      <td>0.2</td>\n    </tr>\n    <tr>\n      <th>tax_liens</th>\n      <td>76</td>\n      <td>0.2</td>\n    </tr>\n    <tr>\n      <th>revol_util</th>\n      <td>61</td>\n      <td>0.1</td>\n    </tr>\n    <tr>\n      <th>title</th>\n      <td>13</td>\n      <td>0.0</td>\n    </tr>\n    <tr>\n      <th>last_credit_pull_d</th>\n      <td>3</td>\n      <td>0.0</td>\n    </tr>\n  </tbody>\n</table>\n</div>", 
                        "text/plain": "                      Missing Values  % of Total Values\nemp_title                       2614                6.1\npub_rec_bankruptcies            1336                3.1\nemp_length                      1112                2.6\nlast_pymnt_d                      83                0.2\ntax_liens                         76                0.2\nrevol_util                        61                0.1\ntitle                             13                0.0\nlast_credit_pull_d                 3                0.0"
                    }, 
                    "output_type": "execute_result"
                }
            ], 
            "source": "missing_values_table(loans_raw)"
        }, 
        {
            "execution_count": 8, 
            "cell_type": "code", 
            "metadata": {}, 
            "outputs": [], 
            "source": "from sklearn.model_selection import train_test_split\ncredits_train, credits_test = train_test_split(loans_raw, test_size=0.2, random_state=42)"
        }, 
        {
            "execution_count": 9, 
            "cell_type": "code", 
            "metadata": {}, 
            "outputs": [], 
            "source": "credits_target = credits_train[\"CHARGED_OFF\"].copy()\ncredits_train = credits_train.drop(\"CHARGED_OFF\", axis=1)"
        }, 
        {
            "execution_count": 10, 
            "cell_type": "code", 
            "metadata": {}, 
            "outputs": [], 
            "source": "credits_num = credits_train.select_dtypes(exclude=['object'])\ncredits_cat = credits_train.select_dtypes(include=['object'])\nnum_attribs = credits_num.columns\ncat_attribs = credits_cat.columns"
        }, 
        {
            "execution_count": 11, 
            "cell_type": "code", 
            "metadata": {}, 
            "outputs": [], 
            "source": "from sklearn.pipeline import Pipeline\nfrom sklearn.impute import SimpleImputer\n\nfrom sklearn.preprocessing import StandardScaler\nfrom sklearn.preprocessing import OneHotEncoder\n\nnum_pipeline = Pipeline([\n        ('imputer', SimpleImputer(strategy=\"median\")),\n        ('std_scaler', StandardScaler()),\n    ])\n\ncat_pipeline = Pipeline([\n        ('imputer', SimpleImputer(strategy=\"most_frequent\")),\n        ('oh_encoder', OneHotEncoder()),\n    ])"
        }, 
        {
            "execution_count": 12, 
            "cell_type": "code", 
            "metadata": {}, 
            "outputs": [], 
            "source": "from sklearn.compose import ColumnTransformer\n\nfull_pipeline = ColumnTransformer([\n        (\"num\", num_pipeline, num_attribs),\n        (\"cat\", cat_pipeline, cat_attribs),\n    ])\n\ncredits_prepared = full_pipeline.fit_transform(credits_train)\n"
        }, 
        {
            "execution_count": 13, 
            "cell_type": "code", 
            "metadata": {}, 
            "outputs": [
                {
                    "execution_count": 13, 
                    "metadata": {}, 
                    "data": {
                        "text/plain": "RandomForestClassifier(bootstrap=True, class_weight=None, criterion='gini',\n            max_depth=None, max_features='auto', max_leaf_nodes=None,\n            min_impurity_decrease=0.0, min_impurity_split=None,\n            min_samples_leaf=1, min_samples_split=2,\n            min_weight_fraction_leaf=0.0, n_estimators=10, n_jobs=None,\n            oob_score=False, random_state=None, verbose=0,\n            warm_start=False)"
                    }, 
                    "output_type": "execute_result"
                }
            ], 
            "source": "from sklearn.ensemble import RandomForestClassifier\n\nrf_classifier = RandomForestClassifier()\nrf_classifier.fit(credits_prepared, credits_target)"
        }, 
        {
            "execution_count": 14, 
            "cell_type": "code", 
            "metadata": {}, 
            "outputs": [
                {
                    "output_type": "stream", 
                    "name": "stdout", 
                    "text": "0.975443987063\n"
                }
            ], 
            "source": "from sklearn.model_selection import cross_val_score\nimport numpy as np\n\nprint (np.mean(cross_val_score(rf_classifier, credits_prepared, credits_target, cv=10)))"
        }, 
        {
            "execution_count": null, 
            "cell_type": "code", 
            "metadata": {}, 
            "outputs": [], 
            "source": ""
        }
    ], 
    "metadata": {
        "kernelspec": {
            "display_name": "Python 3.5", 
            "name": "python3", 
            "language": "python"
        }, 
        "language_info": {
            "mimetype": "text/x-python", 
            "nbconvert_exporter": "python", 
            "version": "3.5.5", 
            "name": "python", 
            "file_extension": ".py", 
            "pygments_lexer": "ipython3", 
            "codemirror_mode": {
                "version": 3, 
                "name": "ipython"
            }
        }
    }, 
    "nbformat": 4
}